{
 "cells": [
  {
   "cell_type": "code",
   "execution_count": 3,
   "id": "165ef982",
   "metadata": {},
   "outputs": [
    {
     "name": "stdout",
     "output_type": "stream",
     "text": [
      "var =  0\n"
     ]
    }
   ],
   "source": [
    "# assigning variable\n",
    "var = 0\n",
    "print(\"var = \", var)\n",
    "\n",
    "# multi assignment\n",
    "n, m = 3, 2"
   ]
  },
  {
   "cell_type": "code",
   "execution_count": 7,
   "id": "0830f9bc",
   "metadata": {},
   "outputs": [],
   "source": [
    "# integer\n",
    "a = 10\n",
    "\n",
    "# Float\n",
    "b = 3.14\n",
    "\n",
    "# string\n",
    "c = \"hello, world\"\n",
    "\n",
    "# boolean\n",
    "d = True\n",
    "\n",
    "# list\n",
    "e = [1, 2, 3]\n",
    "\n",
    "# tuple\n",
    "f = (1, 2, 3)\n",
    "\n",
    "# dictionary\n",
    "g = {\n",
    "    \"name\" : \"alice\",\n",
    "    \"age\"   : 32\n",
    "}\n",
    "\n",
    "# set\n",
    "h = {1, 2, 3}\n",
    "\n",
    "# None\n",
    "i = None"
   ]
  },
  {
   "cell_type": "code",
   "execution_count": null,
   "id": "57607892",
   "metadata": {},
   "outputs": [
    {
     "name": "stdout",
     "output_type": "stream",
     "text": [
      "<class 'type'>\n"
     ]
    }
   ],
   "source": [
    "# get type of variable\n",
    "varType = type(h)\n",
    "print(varType)"
   ]
  },
  {
   "cell_type": "code",
   "execution_count": 10,
   "id": "427327b9",
   "metadata": {},
   "outputs": [],
   "source": [
    "# increment & decrement\n",
    "n += 1\n",
    "m = m + 1\n",
    "\n",
    "n -= 1\n",
    "m = m - 1"
   ]
  },
  {
   "cell_type": "code",
   "execution_count": null,
   "id": "66c9e424",
   "metadata": {},
   "outputs": [
    {
     "name": "stdout",
     "output_type": "stream",
     "text": [
      "n is less than 5  4\n"
     ]
    }
   ],
   "source": [
    "# if, else, elif\n",
    "\n",
    "if n < 5:\n",
    "    print(\"n is less than 5 \", n)\n",
    "elif n == 5:\n",
    "    print(\"n is 5 \", n)\n",
    "else:\n",
    "    print(\"n is greater than 5 \", n)\n"
   ]
  },
  {
   "cell_type": "code",
   "execution_count": 18,
   "id": "5cf23ef3",
   "metadata": {},
   "outputs": [
    {
     "name": "stdout",
     "output_type": "stream",
     "text": [
      "...\n",
      "yes\n"
     ]
    }
   ],
   "source": [
    "# conditionals\n",
    "\n",
    "if n > 5 and m < 4:\n",
    "    print(\"...\")\n",
    "\n",
    "if n > 5 or m < 4:\n",
    "    print(\"...\")\n",
    "\n",
    "if n != 5:\n",
    "    print(\"yes\")"
   ]
  },
  {
   "cell_type": "code",
   "execution_count": null,
   "id": "393f0d63",
   "metadata": {},
   "outputs": [],
   "source": [
    "#while\n",
    "\n",
    "while n > 5:\n",
    "    n -= 1\n",
    "    print(\"yes\")"
   ]
  },
  {
   "cell_type": "code",
   "execution_count": 28,
   "id": "89b5152b",
   "metadata": {},
   "outputs": [
    {
     "name": "stdout",
     "output_type": "stream",
     "text": [
      "0\n",
      "1\n",
      "2\n",
      "1\n",
      "0 0\n",
      "1 1\n"
     ]
    }
   ],
   "source": [
    "# for loop\n",
    "for i in range(1):\n",
    "    print(i)\n",
    "\n",
    "for i in range(1, 2):\n",
    "    print(i)\n",
    "\n",
    "for i in range(2, 1, -1):\n",
    "    print(i)\n",
    "\n",
    "for i in range(1, 3, 2):\n",
    "    print(i)\n",
    "\n",
    "for index, value in enumerate(range(2)):\n",
    "    print(index, value)\n"
   ]
  },
  {
   "cell_type": "code",
   "execution_count": 35,
   "id": "555a9b50",
   "metadata": {},
   "outputs": [
    {
     "name": "stdout",
     "output_type": "stream",
     "text": [
      "2.5\n",
      "2\n",
      "-2\n",
      "-1\n"
     ]
    }
   ],
   "source": [
    "# division is decimal by default\n",
    "print(5/2)\n",
    "\n",
    "# double slash rounds down\n",
    "print(5//2)\n",
    "\n",
    "# round down from 0\n",
    "print(-3//2)\n",
    "\n",
    "# round to 0\n",
    "print(int(-3/2))\n",
    "\n"
   ]
  },
  {
   "cell_type": "code",
   "execution_count": null,
   "id": "bbaea03c",
   "metadata": {},
   "outputs": [
    {
     "name": "stdout",
     "output_type": "stream",
     "text": [
      "1\n",
      "1\n",
      "2\n",
      "2.0\n",
      "9.0\n"
     ]
    }
   ],
   "source": [
    "# modulo and math\n",
    "print(5 % 2)\n",
    "\n",
    "import math\n",
    "print(math.floor(3/2))\n",
    "print(math.ceil(3/2))\n",
    "print(math.sqrt(4))\n",
    "print(math.pow(3,2))"
   ]
  },
  {
   "cell_type": "code",
   "execution_count": null,
   "id": "cfb95776",
   "metadata": {},
   "outputs": [
    {
     "data": {
      "text/plain": [
       "-inf"
      ]
     },
     "execution_count": 38,
     "metadata": {},
     "output_type": "execute_result"
    }
   ],
   "source": [
    "# max/min int\n",
    "max_val = float(\"-inf\")\n",
    "min_val = float(\"inf\") "
   ]
  },
  {
   "cell_type": "code",
   "execution_count": null,
   "id": "24294a99",
   "metadata": {},
   "outputs": [],
   "source": [
    "# list\n",
    "arr = [1, 2, 3]\n",
    "print(arr)\n",
    "\n",
    "arr.append(4)\n",
    "arr.append(5)\n",
    "\n",
    "arr.pop()\n",
    "arr.insert(3, 100)\n",
    "print(arr[3])\n",
    "\n",
    "# array of fixed size\n",
    "arr = [1] * 5\n",
    "print(arr)\n",
    "\n",
    "\n",
    "# index from backwards\n",
    "print(arr[-1])\n",
    "\n",
    "\n",
    "# slicing\n",
    "arr = [1, 2, 3, 4, 5, 6]\n",
    "print(arr[3:1:-1])\n",
    "print(arr[3::-1])\n",
    "\n",
    "# unpacking\n",
    "a, b, c = [1, 3, 4]\n",
    "\n",
    "\n",
    "# loop thru arrays\n",
    "\n",
    "for i in range(len(arr)):\n",
    "    print(arr[i])\n",
    "\n",
    "for i in arr:\n",
    "    print(i)\n",
    "\n",
    "for i, n in enumerate(arr):\n",
    "    print(i, n)\n",
    "\n",
    "# loop through multiple arays simultaneusly with unpacking\n",
    "nums1 = [1, 2, 3]\n",
    "nums2 = [4, 5, 6]\n",
    "\n",
    "for n1, n2 in zip(nums1, nums2):\n",
    "    print(n1, n2)"
   ]
  },
  {
   "cell_type": "code",
   "execution_count": null,
   "id": "209a3049",
   "metadata": {},
   "outputs": [],
   "source": [
    "# sort\n",
    "\n",
    "# reverse an array\n",
    "arr = [5, 4, 3, 2, 1]\n",
    "arr.reverse()\n",
    "\n",
    "arr.sort()\n",
    "arr.sort(reverse=True)\n",
    "print(arr)\n",
    "\n",
    "# custom sort\n",
    "arr = [\"bob\", \"alice\", \"jane\", \"doe\"]\n",
    "arr.sort(key=lambda x:len(x))"
   ]
  },
  {
   "cell_type": "code",
   "execution_count": null,
   "id": "bc792f4d",
   "metadata": {},
   "outputs": [
    {
     "name": "stdout",
     "output_type": "stream",
     "text": [
      "[0, 2, 4, 6, 8]\n",
      "[[0, 0, 0, 0], [0, 0, 0, 0], [0, 0, 0, 0]]\n"
     ]
    }
   ],
   "source": [
    "# list comprehension\n",
    "\n",
    "# 1-D\n",
    "arr = [i + i for i in range(5)]\n",
    "print(arr)\n",
    "\n",
    "#2-D\n",
    "arr = [[0] * 4 for _ in range(3)]\n",
    "print(arr)\n"
   ]
  },
  {
   "cell_type": "code",
   "execution_count": 68,
   "id": "b877e895",
   "metadata": {},
   "outputs": [
    {
     "name": "stdout",
     "output_type": "stream",
     "text": [
      "a\n",
      "b\n",
      "c\n",
      "d\n",
      "abc\n"
     ]
    }
   ],
   "source": [
    "# strings\n",
    "\n",
    "str = \"abcd\"\n",
    "\n",
    "# just like array, you can iterate or index, but they are immutable\n",
    "for i in str:\n",
    "    print(i)\n",
    "\n",
    "# str[0] = \"a\"    #no no\n",
    "\n",
    "# concatenation, creates a new string, modification is O(n)\n",
    "str += \"efg\"\n",
    "\n",
    "num = int(\"123\")\n",
    "\n",
    "# ascii\n",
    "ord(\"a\")\n",
    "\n",
    "print(\"\".join([\"a\", \"b\", \"c\"]))\n"
   ]
  },
  {
   "cell_type": "code",
   "execution_count": null,
   "id": "01c376ab",
   "metadata": {},
   "outputs": [],
   "source": [
    "# queues\n",
    "\n",
    "from collections import deque\n",
    "\n",
    "queue = deque()\n",
    "\n",
    "queue.append(1)\n",
    "queue.append(2)\n",
    "queue.appendleft()\n",
    "\n",
    "queue.pop()\n",
    "queue.popleft()"
   ]
  },
  {
   "cell_type": "code",
   "execution_count": null,
   "id": "6ccbc560",
   "metadata": {},
   "outputs": [],
   "source": [
    "# hashset\n",
    "\n",
    "mySet = set()\n",
    "mySet.add(1)\n",
    "mySet.add(2)\n",
    "\n",
    "print(len(mySet))\n",
    "\n",
    "print(1 in mySet)\n",
    "\n",
    "mySet.remove(2)\n",
    "\n",
    "# set comprehension\n",
    "\n",
    "mySet = {i for i in range(5)}"
   ]
  },
  {
   "cell_type": "code",
   "execution_count": null,
   "id": "c7914691",
   "metadata": {},
   "outputs": [
    {
     "name": "stdout",
     "output_type": "stream",
     "text": [
      "{'alice': 'bob', 1: 'str'}\n"
     ]
    }
   ],
   "source": [
    "# hasmap\n",
    "\n",
    "myMap = {}\n",
    "myMap[\"alice\"] = \"bob\"\n",
    "myMap[1] = \"str\"\n",
    "\n",
    "print(myMap)\n",
    "print(myMap[\"alice\"])\n",
    "\n",
    "\"alice\" in myMap\n",
    "\n",
    "myMap.pop(\"alice\")\n",
    "\n",
    "myMap = {\"alice\": 90, \"bob\": 70}\n",
    "\n",
    "# dict comprehension\n",
    "\n",
    "myMap = { i:2*i for i in range(3)}\n",
    "\n",
    "for key in myMap:\n",
    "    print(key, myMap[key])\n",
    "\n",
    "for val in myMap.values():\n",
    "    print(val)\n",
    "\n",
    "for key, val in myMap.items():\n",
    "    print(key, val)"
   ]
  },
  {
   "cell_type": "code",
   "execution_count": null,
   "id": "ac801c50",
   "metadata": {},
   "outputs": [],
   "source": [
    "# tuples\n",
    "\n",
    "tup = (1, 2, 3)\n",
    "\n",
    "tup[0]\n",
    "tup[-1]\n",
    "\n",
    "# can be used as key for maps\n",
    "myMap = {(1, 2):3}\n",
    "myMap[(1, 2)]\n",
    "\n",
    "mySet = set()\n",
    "mySet.add((1, 2))\n",
    "print((1, 2) in mySet)\n",
    "\n",
    "\n",
    "# tup as keys because, list can't be used as key in maps"
   ]
  },
  {
   "cell_type": "code",
   "execution_count": null,
   "id": "f9e4d1e2",
   "metadata": {},
   "outputs": [
    {
     "name": "stdout",
     "output_type": "stream",
     "text": [
      "3\n"
     ]
    }
   ],
   "source": [
    "# heaps\n",
    "\n",
    "import heapq\n",
    "\n",
    "# under the hood are arrays\n",
    "minHeap = []\n",
    "heapq.heappush(minHeap, 3)\n",
    "heapq.heappush(minHeap, 4)\n",
    "heapq.heappush(minHeap, 5)\n",
    "\n",
    "print(minHeap[0])\n",
    "\n",
    "while len(minHeap):\n",
    "    heapq.heappop(minHeap)\n",
    "\n",
    "\n",
    "# build heap \n",
    "\n",
    "arr = [2, 1, 8, 4, 5]\n",
    "\n",
    "heapq.heapify(arr)\n",
    "\n",
    "while len(arr):\n",
    "    heapq.heappop(arr)"
   ]
  },
  {
   "cell_type": "code",
   "execution_count": 71,
   "id": "e2c0a595",
   "metadata": {},
   "outputs": [
    {
     "name": "stdout",
     "output_type": "stream",
     "text": [
      "3\n"
     ]
    }
   ],
   "source": [
    "# maxHeap,  no max heap in python\n",
    "\n",
    "maxHeap = []\n",
    "\n",
    "# push negative value of the elems\n",
    "heapq.heappush(maxHeap, -3)\n",
    "heapq.heappush(maxHeap, -2)\n",
    "heapq.heappush(maxHeap, -1)\n",
    "\n",
    "# max is always at index 0\n",
    "print( -1 * maxHeap[0])\n",
    "\n"
   ]
  },
  {
   "cell_type": "code",
   "execution_count": null,
   "id": "7ca112d1",
   "metadata": {},
   "outputs": [],
   "source": [
    "# functions\n",
    "\n",
    "def myFunc(n, m):\n",
    "    return n, m\n",
    "\n",
    "\n",
    "# nested function\n",
    "\n",
    "def outer(a, b):\n",
    "    c = \"c\"\n",
    "\n",
    "    def inner():\n",
    "        return a + b + c\n",
    "    \n",
    "    return inner()"
   ]
  },
  {
   "cell_type": "code",
   "execution_count": null,
   "id": "ab6fbbe7",
   "metadata": {},
   "outputs": [
    {
     "name": "stdout",
     "output_type": "stream",
     "text": [
      "5\n",
      "2\n",
      "8\n"
     ]
    }
   ],
   "source": [
    "# upper bound and lower bound\n",
    "import bisect\n",
    "\n",
    "arr = [1, 2, 4, 4, 4, 5, 6, 7]\n",
    "\n",
    "print(bisect.bisect_right(arr, 4)) # upper bound of 4, idx of the immediate number larger that 4\n",
    "print(bisect.bisect_left(arr, 4)) # lower bound of 4, idx of number that is equal to 4, if not just greater that 4\n",
    "\n",
    "# note if the there is not valid number, then the len(arr) will be give\n",
    "print(bisect.bisect_left(arr, 10))\n"
   ]
  },
  {
   "cell_type": "code",
   "execution_count": 72,
   "id": "9f84b1cb",
   "metadata": {},
   "outputs": [
    {
     "name": "stdout",
     "output_type": "stream",
     "text": [
      "Buddy\n",
      "Canis familiaris\n",
      "Buddy says woof!\n"
     ]
    }
   ],
   "source": [
    "class Dog:\n",
    "    # Class variable (shared by all instances)\n",
    "    species = \"Canis familiaris\"\n",
    "\n",
    "    def __init__(self, name, age):\n",
    "        # Instance variables (unique to each instance)\n",
    "        self.name = name\n",
    "        self.age = age\n",
    "\n",
    "    # Instance method\n",
    "    def bark(self):\n",
    "        print(f\"{self.name} says woof!\")\n",
    "\n",
    "# Create an object\n",
    "d = Dog(\"Buddy\", 3)\n",
    "\n",
    "# Access member variables\n",
    "print(d.name)      # Buddy\n",
    "print(d.species)   # Canis familiaris\n",
    "\n",
    "# Call method\n",
    "d.bark()           # Buddy says woof!"
   ]
  },
  {
   "cell_type": "markdown",
   "id": "56ea86d3",
   "metadata": {},
   "source": [
    "#### Some useful funcs"
   ]
  },
  {
   "cell_type": "code",
   "execution_count": null,
   "id": "1cafcafe",
   "metadata": {},
   "outputs": [],
   "source": [
    "# map\n",
    "arr = [1, 2, 3, 4]\n",
    "squares = list(map(lambda x : x**2, arr))"
   ]
  },
  {
   "cell_type": "code",
   "execution_count": null,
   "id": "9116da5c",
   "metadata": {},
   "outputs": [],
   "source": [
    "#filter \n",
    "nums = [1, 2, 3, 4, 5]\n",
    "even = list(filter(lambda x: x % 2 == 0, nums))\n",
    "print(even) "
   ]
  }
 ],
 "metadata": {
  "kernelspec": {
   "display_name": ".venv",
   "language": "python",
   "name": "python3"
  },
  "language_info": {
   "codemirror_mode": {
    "name": "ipython",
    "version": 3
   },
   "file_extension": ".py",
   "mimetype": "text/x-python",
   "name": "python",
   "nbconvert_exporter": "python",
   "pygments_lexer": "ipython3",
   "version": "3.11.9"
  }
 },
 "nbformat": 4,
 "nbformat_minor": 5
}
